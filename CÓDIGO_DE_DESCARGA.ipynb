{
 "cells": [
  {
   "cell_type": "code",
   "execution_count": 12,
   "id": "5348566c",
   "metadata": {},
   "outputs": [
    {
     "name": "stdout",
     "output_type": "stream",
     "text": [
      "Secuencias descargadas y guardadas en sequence.fasta\n",
      ">KX378102.1 Passiflora caerulea isolate SBV08 5S ribosomal RNA gene, complete sequence\n",
      "ACCCGCCACACGAACAAAACCCCGGCGCGAGACGCGCCAAGGAATCAAAAACGAAAAGACAGGGAACGGGCGGCCCCGTCGAGTGCCGGAGACGGATCTCTCGCGGGCGGCCCATTCCCGTTCGGAAACAAAACGACTCTCGGCAACGGATATCTCGGCTCTCGCATCGATGAAGAACGTAGCGAAATGCGATACTTGGTGTGAATTGCAGAATCCCGTGAACCATCGAGTCTTTGAACGCAAGTTGCGCCCGAAGCCTTCGGGTCGAGGGCACGTCTGCCTGGGTGTCATGCATCGTCGCCCCTCCCCATCCTTCCGGCTCCCCCCGAGGGGGAAAAGGGGGGTACGGGACGGGCGGAGAATGGTCTCCCGTGCGCTCCCGCTCGCGGTTGGCCGAAATACGAGTTGTTGGCGGCCGAGAGCGCCACG\n",
      "Longitud de la secuencia: 429 nucleótidos\n",
      "Secuencia guardada en sequence.fasta\n",
      ">KX378057.1 Passiflora organensis isolate PM31 5S ribosomal RNA gene, complete sequence\n",
      "GTCCTCCCAACAGAACAAACCCCCCGGCGTAAAATGCGCCAAGGAATCTTAAATGAAAAGAGAAGGTAACCAGCACCCTAGCGTGCCGGGAAACGAAATTCCCAGGGGCGGTGGGTTTCTTTGTTAAAAAACTAATTAACTCTCGGCAACGAATATCTGGGTTCTCGCATCATTAAAAAACTTACCAAATTGCAATACTTGGGGTAATTTGCAAAATCCCTTGAACCTTCAATTTTTTAAACCCAATTTCCCCCCAAAGCCTTCGGGCCAAGGGAACTTTTGCTTGGTGGTCATGTCCCGTTGCCCCTTCAAATTCCTTTTGTGGGAAAATCGAACTAGGGGCGAAAATTGGCCTCCCGGGGGCCCCCGTTCGCGGTGGGCCAAATTTTAATTCGTTGGTAATATGGCCCC\n",
      "Longitud de la secuencia: 411 nucleótidos\n",
      "Secuencia guardada en sequence.fasta\n",
      ">KX378119.1 Passiflora misera isolate SF20 5S ribosomal RNA gene, complete sequence\n",
      "GTCCTACCAACAGAACAAACCCCCCGGCTAAATGGCCCCAGGGATCCTTAATGGAAAAAAAAAGGTACCCACCCCCCTACCTGGCCGGAAACGAATTTCCCAGGGGCGGTGGTTTTCTTGGTTTAAAACAAATGGATCTTCGCCACCGAAATCTTGGCTCCCCCCTCCAATAAAAACCTTACCAAATGGCATTCCTGGTGGGGATTTGCAAATCCCCGGGACCCTCCAATTTTTTAACCCCAGTTCCCCCCAAGCCCTCCGGTCCAAGGGCCCTTTTGCTGGGTGGCCAGGTACCTTTCCCTTCAACTCCCTCCGGGGGGAAAATGGAACAAGGGCCGAAAATTGTCCCCCCGTGGGTTCCGCTTCTCGTTGGGCCGAAATTCAATTCTTGGTGGTTGTGCACC\n",
      "Longitud de la secuencia: 404 nucleótidos\n",
      "Secuencia guardada en sequence.fasta\n",
      ">KX378094.1 Passiflora actinia isolate PM69 5S ribosomal RNA gene, complete sequence\n",
      "CCCCGCCACACGAACAAAACCCCGGCGCGAGACGCGCCAAGGAATCAAAAACGAAAAGATAGGGAACGGGCGGCCCGTCGAGTGCCGGAGACGGATCTCTCGCGGGCGGCCCCTTCTCGTTCGGAAACAAAACGACTCTCGGCAACGGATATCTCGGCTCTCGCATCGATGAAGAACGTAGCGAAATGCGATACTTGGTGTGAATTGCAGAATCCCGTGAACCATCGAGTCTTTGAACGCAAGTTGCGCCCGAAGCCTTCGGGCCGAGGGCACGCCTGCCTGGGTGTCATGCATCGTCGCCCACCCCCATTATCGGGACGGGCGGAGAATGGTCTCCCGTGCGCTCCCGCTCGCGGTTGGCCGAAATACGAGTTGTTGGCGGCCGATAGCGCCACG\n",
      "Longitud de la secuencia: 396 nucleótidos\n",
      "Secuencia guardada en sequence.fasta\n",
      ">KX378121.1 Passiflora elegans isolate SF24 5S ribosomal RNA gene, complete sequence\n",
      "CCCCGTCACACGAACAAAACCCCGGCGCGAGACGCGCCAAGGAATAGAAAACGAAGAGATAGGGAACGGGTGGCCCGTCGAGTGCCGGAGACGGATCTCTCGCGGGCGACCCCTTCTCGTTCGGAAACAAAACGACTCTCGGCAACGGATATCTCGGCTCTCGCATCTATGAAGAACGTATCGAAATGCGATACTTGGTGTGAATTGCCGAATCCCGTGAACCATCGAGTCTTTGAACGCAAGTTGCGCCCGAAGCCTTCGGGCCGAGGGAACGCCTGCCTGGGTGTCATGCGTCGTCGCCCCCCGACCATCGGGACGGGCGGAGATTGGTCTCCCGTGCGCTCCCGCTCGCGGTTGGCCGAAATACGAGTTGTTGGCGGCCGATAGCGCCACG\n",
      "Longitud de la secuencia: 394 nucleótidos\n",
      "Secuencia guardada en sequence.fasta\n"
     ]
    }
   ],
   "source": [
    "from Bio import Entrez, SeqIO\n",
    "\n",
    "# Establecer el correo electrónico (NCBI requiere que proporciones un correo electrónico)\n",
    "# Si desea usar su propio correo, debe crearse una cuenta en el NCBI\n",
    "Entrez.email = \"20220764@lamolina.edu.pe\" # En este caso, se está usando un correo que ya tiene una cuenta en NCBI\n",
    "\n",
    "# Lista de especies y secuencias específicas\n",
    "species_sequences = {\n",
    "    \"KX378102.1\": \"Passiflora caerulea isolate SBV08 5S ribosomal RNA gene, complete sequence\",\n",
    "    \"KX378057.1\": \"Passiflora organensis isolate PM31 5S ribosomal RNA gene, complete sequence\",\n",
    "    \"KX378119.1\": \"Passiflora misera isolate SF20 5S ribosomal RNA gene, complete sequence\",\n",
    "    \"KX378094.1\": \"Passiflora actinia isolate PM69 5S ribosomal RNA gene, complete sequence\",\n",
    "    \"KX378121.1\": \"Passiflora elegans isolate SF24 5S ribosomal RNA gene, complete sequence\"\n",
    "} \n",
    "# definimos un diccionario que contiene los identificadores de las secuencias (por ejemplo, \"KX378102.1\") como claves, \n",
    "# y las descripciones de las secuencias como valores. Esto nos permite buscar secuencias específicas.\n",
    "\n",
    "\n",
    "# Obtener los identificadores de las secuencias\n",
    "id_list = list(species_sequences.keys()) # Convertimos las claves del diccionario (que son los identificadores de las secuencias)\n",
    "                                         # en una lista que se utilizará para buscar las secuencias en la base de datos NCBI.\n",
    "\n",
    "\n",
    "# Descargar las secuencias en formato FASTA\n",
    "ids = \",\".join(id_list) # Junta todos los identificadores en una sola cadena separada por comas.\n",
    "handle = Entrez.efetch(db=\"nucleotide\", id=ids, rettype=\"fasta\", retmode=\"text\") \n",
    "sequences = handle.read()\n",
    "handle.close()\n",
    "\n",
    "# Guardar las secuencias en un archivo FASTA\n",
    "file_name = \"sequence.fasta\"\n",
    "with open(file_name, \"w\") as out_file:\n",
    "    out_file.write(sequences)\n",
    "print(f\"Secuencias descargadas y guardadas en {file_name}\")\n",
    "\n",
    "# Leer y mostrar un resumen de las secuencias en formato FASTA\n",
    "for record in SeqIO.parse(file_name, \"fasta\"): # Itera sobre cada secuencia en el archivo FASTA.\n",
    "    print(f\">{record.id} {species_sequences[record.id]}\")\n",
    "    print(record.seq) # Imprime la secuencia de nucleótidos.\n",
    "    print(f\"Longitud de la secuencia: {len(record.seq)} nucleótidos\")\n",
    "    print(f\"Secuencia guardada en {file_name}\")\n",
    "    \n",
    "# Esperar un momento a que se descarguen los datos en \"sequence.fasta\", esto puede tardar unos minutos.\n",
    "# Este metodo descarga los datos solicitados, esto evita que jupyter notebook reciba demasiada información en un corto\n",
    "# periodo de tiempo lo cual puede ocasionar fallas o problemas de rendimiento."
   ]
  },
  {
   "cell_type": "code",
   "execution_count": 13,
   "id": "8fbadd08",
   "metadata": {},
   "outputs": [
    {
     "name": "stdout",
     "output_type": "stream",
     "text": [
      ">KX378102.1\n",
      "ACCCGCCACACGAACAAAACCCCGGCGCGAGACGCGCCAAGGAATCAAAAACGAAAAGACAGGGAACGGGCGGCCCCGTCGAGTGCCGGAGACGGATCTCTCGCGGGCGGCCCATTCCCGTTCGGAAACAAAACGACTCTCGGCAACGGATATCTCGGCTCTCGCATCGATGAAGAACGTAGCGAAATGCGATACTTGGTGTGAATTGCAGAATCCCGTGAACCATCGAGTCTTTGAACGCAAGTTGCGCCCGAAGCCTTCGGGTCGAGGGCACGTCTGCCTGGGTGTCATGCATCGTCGCCCCTCCCCATCCTTCCGGCTCCCCCCGAGGGGGAAAAGGGGGGTACGGGACGGGCGGAGAATGGTCTCCCGTGCGCTCCCGCTCGCGGTTGGCCGAAATACGAGTTGTTGGCGGCCGAGAGCGCCACG\n",
      ">KX378057.1\n",
      "GTCCTCCCAACAGAACAAACCCCCCGGCGTAAAATGCGCCAAGGAATCTTAAATGAAAAGAGAAGGTAACCAGCACCCTAGCGTGCCGGGAAACGAAATTCCCAGGGGCGGTGGGTTTCTTTGTTAAAAAACTAATTAACTCTCGGCAACGAATATCTGGGTTCTCGCATCATTAAAAAACTTACCAAATTGCAATACTTGGGGTAATTTGCAAAATCCCTTGAACCTTCAATTTTTTAAACCCAATTTCCCCCCAAAGCCTTCGGGCCAAGGGAACTTTTGCTTGGTGGTCATGTCCCGTTGCCCCTTCAAATTCCTTTTGTGGGAAAATCGAACTAGGGGCGAAAATTGGCCTCCCGGGGGCCCCCGTTCGCGGTGGGCCAAATTTTAATTCGTTGGTAATATGGCCCC\n",
      ">KX378119.1\n",
      "GTCCTACCAACAGAACAAACCCCCCGGCTAAATGGCCCCAGGGATCCTTAATGGAAAAAAAAAGGTACCCACCCCCCTACCTGGCCGGAAACGAATTTCCCAGGGGCGGTGGTTTTCTTGGTTTAAAACAAATGGATCTTCGCCACCGAAATCTTGGCTCCCCCCTCCAATAAAAACCTTACCAAATGGCATTCCTGGTGGGGATTTGCAAATCCCCGGGACCCTCCAATTTTTTAACCCCAGTTCCCCCCAAGCCCTCCGGTCCAAGGGCCCTTTTGCTGGGTGGCCAGGTACCTTTCCCTTCAACTCCCTCCGGGGGGAAAATGGAACAAGGGCCGAAAATTGTCCCCCCGTGGGTTCCGCTTCTCGTTGGGCCGAAATTCAATTCTTGGTGGTTGTGCACC\n",
      ">KX378094.1\n",
      "CCCCGCCACACGAACAAAACCCCGGCGCGAGACGCGCCAAGGAATCAAAAACGAAAAGATAGGGAACGGGCGGCCCGTCGAGTGCCGGAGACGGATCTCTCGCGGGCGGCCCCTTCTCGTTCGGAAACAAAACGACTCTCGGCAACGGATATCTCGGCTCTCGCATCGATGAAGAACGTAGCGAAATGCGATACTTGGTGTGAATTGCAGAATCCCGTGAACCATCGAGTCTTTGAACGCAAGTTGCGCCCGAAGCCTTCGGGCCGAGGGCACGCCTGCCTGGGTGTCATGCATCGTCGCCCACCCCCATTATCGGGACGGGCGGAGAATGGTCTCCCGTGCGCTCCCGCTCGCGGTTGGCCGAAATACGAGTTGTTGGCGGCCGATAGCGCCACG\n",
      ">KX378121.1\n",
      "CCCCGTCACACGAACAAAACCCCGGCGCGAGACGCGCCAAGGAATAGAAAACGAAGAGATAGGGAACGGGTGGCCCGTCGAGTGCCGGAGACGGATCTCTCGCGGGCGACCCCTTCTCGTTCGGAAACAAAACGACTCTCGGCAACGGATATCTCGGCTCTCGCATCTATGAAGAACGTATCGAAATGCGATACTTGGTGTGAATTGCCGAATCCCGTGAACCATCGAGTCTTTGAACGCAAGTTGCGCCCGAAGCCTTCGGGCCGAGGGAACGCCTGCCTGGGTGTCATGCGTCGTCGCCCCCCGACCATCGGGACGGGCGGAGATTGGTCTCCCGTGCGCTCCCGCTCGCGGTTGGCCGAAATACGAGTTGTTGGCGGCCGATAGCGCCACG\n"
     ]
    }
   ],
   "source": [
    "# Leer las secuencias desde el archivo FASTA\n",
    "with open(\"sequence.fasta\", \"r\") as in_file:\n",
    "    for record in SeqIO.parse(in_file, \"fasta\"):\n",
    "        print(f\">{record.id}\")\n",
    "        print(record.seq)"
   ]
  }
 ],
 "metadata": {
  "kernelspec": {
   "display_name": "Python 3 (ipykernel)",
   "language": "python",
   "name": "python3"
  },
  "language_info": {
   "codemirror_mode": {
    "name": "ipython",
    "version": 3
   },
   "file_extension": ".py",
   "mimetype": "text/x-python",
   "name": "python",
   "nbconvert_exporter": "python",
   "pygments_lexer": "ipython3",
   "version": "3.9.12"
  }
 },
 "nbformat": 4,
 "nbformat_minor": 5
}
